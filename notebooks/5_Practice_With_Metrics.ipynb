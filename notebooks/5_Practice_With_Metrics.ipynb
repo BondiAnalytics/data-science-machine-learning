{
 "cells": [
  {
   "cell_type": "markdown",
   "metadata": {},
   "source": [
    "# Practice With Metrics\n",
    "\n",
    "In this lab you are going to build a classification model to predic if a breast tumour is cancerous or not. Then we will make predicts and try out different metrics.\n",
    "The point of the lab is to play with the metrics and see how they work."
   ]
  },
  {
   "cell_type": "code",
   "execution_count": 1,
   "metadata": {},
   "outputs": [],
   "source": [
    "import numpy as np\n",
    "import pandas as pd\n",
    "\n",
    "from sklearn.datasets import load_breast_cancer\n",
    "from sklearn.tree import DecisionTreeClassifier\n",
    "from sklearn.model_selection import train_test_split"
   ]
  },
  {
   "cell_type": "code",
   "execution_count": 2,
   "metadata": {},
   "outputs": [],
   "source": [
    "### ONLY RUN THIS CELL ONCE!!\n",
    "data = load_breast_cancer()\n",
    "data.target = pd.Series(data.target)\n",
    "\n",
    "## Reverse the labels because for some reason scikit learn stores the cancer as 0 and benign as 1, \n",
    "# this is opposite what everyone else in the world doe\n",
    "data.target.replace(0,2, inplace=True) # replace 0's with 2's temporarily\n",
    "data.target.replace(1,0, inplace=True) # change 1's into 0's - final\n",
    "data.target.replace(2,1, inplace=True) # now change out 2's into 1's 0 final."
   ]
  },
  {
   "cell_type": "code",
   "execution_count": 3,
   "metadata": {},
   "outputs": [
    {
     "name": "stdout",
     "output_type": "stream",
     "text": [
      ".. _breast_cancer_dataset:\n",
      "\n",
      "Breast cancer wisconsin (diagnostic) dataset\n",
      "--------------------------------------------\n",
      "\n",
      "**Data Set Characteristics:**\n",
      "\n",
      "    :Number of Instances: 569\n",
      "\n",
      "    :Number of Attributes: 30 numeric, predictive attributes and the class\n",
      "\n",
      "    :Attribute Information:\n",
      "        - radius (mean of distances from center to points on the perimeter)\n",
      "        - texture (standard deviation of gray-scale values)\n",
      "        - perimeter\n",
      "        - area\n",
      "        - smoothness (local variation in radius lengths)\n",
      "        - compactness (perimeter^2 / area - 1.0)\n",
      "        - concavity (severity of concave portions of the contour)\n",
      "        - concave points (number of concave portions of the contour)\n",
      "        - symmetry \n",
      "        - fractal dimension (\"coastline approximation\" - 1)\n",
      "\n",
      "        The mean, standard error, and \"worst\" or largest (mean of the three\n",
      "        largest values) of these features were computed for each image,\n",
      "        resulting in 30 features.  For instance, field 3 is Mean Radius, field\n",
      "        13 is Radius SE, field 23 is Worst Radius.\n",
      "\n",
      "        - class:\n",
      "                - WDBC-Malignant\n",
      "                - WDBC-Benign\n",
      "\n",
      "    :Summary Statistics:\n",
      "\n",
      "    ===================================== ====== ======\n",
      "                                           Min    Max\n",
      "    ===================================== ====== ======\n",
      "    radius (mean):                        6.981  28.11\n",
      "    texture (mean):                       9.71   39.28\n",
      "    perimeter (mean):                     43.79  188.5\n",
      "    area (mean):                          143.5  2501.0\n",
      "    smoothness (mean):                    0.053  0.163\n",
      "    compactness (mean):                   0.019  0.345\n",
      "    concavity (mean):                     0.0    0.427\n",
      "    concave points (mean):                0.0    0.201\n",
      "    symmetry (mean):                      0.106  0.304\n",
      "    fractal dimension (mean):             0.05   0.097\n",
      "    radius (standard error):              0.112  2.873\n",
      "    texture (standard error):             0.36   4.885\n",
      "    perimeter (standard error):           0.757  21.98\n",
      "    area (standard error):                6.802  542.2\n",
      "    smoothness (standard error):          0.002  0.031\n",
      "    compactness (standard error):         0.002  0.135\n",
      "    concavity (standard error):           0.0    0.396\n",
      "    concave points (standard error):      0.0    0.053\n",
      "    symmetry (standard error):            0.008  0.079\n",
      "    fractal dimension (standard error):   0.001  0.03\n",
      "    radius (worst):                       7.93   36.04\n",
      "    texture (worst):                      12.02  49.54\n",
      "    perimeter (worst):                    50.41  251.2\n",
      "    area (worst):                         185.2  4254.0\n",
      "    smoothness (worst):                   0.071  0.223\n",
      "    compactness (worst):                  0.027  1.058\n",
      "    concavity (worst):                    0.0    1.252\n",
      "    concave points (worst):               0.0    0.291\n",
      "    symmetry (worst):                     0.156  0.664\n",
      "    fractal dimension (worst):            0.055  0.208\n",
      "    ===================================== ====== ======\n",
      "\n",
      "    :Missing Attribute Values: None\n",
      "\n",
      "    :Class Distribution: 212 - Malignant, 357 - Benign\n",
      "\n",
      "    :Creator:  Dr. William H. Wolberg, W. Nick Street, Olvi L. Mangasarian\n",
      "\n",
      "    :Donor: Nick Street\n",
      "\n",
      "    :Date: November, 1995\n",
      "\n",
      "This is a copy of UCI ML Breast Cancer Wisconsin (Diagnostic) datasets.\n",
      "https://goo.gl/U2Uwz2\n",
      "\n",
      "Features are computed from a digitized image of a fine needle\n",
      "aspirate (FNA) of a breast mass.  They describe\n",
      "characteristics of the cell nuclei present in the image.\n",
      "\n",
      "Separating plane described above was obtained using\n",
      "Multisurface Method-Tree (MSM-T) [K. P. Bennett, \"Decision Tree\n",
      "Construction Via Linear Programming.\" Proceedings of the 4th\n",
      "Midwest Artificial Intelligence and Cognitive Science Society,\n",
      "pp. 97-101, 1992], a classification method which uses linear\n",
      "programming to construct a decision tree.  Relevant features\n",
      "were selected using an exhaustive search in the space of 1-4\n",
      "features and 1-3 separating planes.\n",
      "\n",
      "The actual linear program used to obtain the separating plane\n",
      "in the 3-dimensional space is that described in:\n",
      "[K. P. Bennett and O. L. Mangasarian: \"Robust Linear\n",
      "Programming Discrimination of Two Linearly Inseparable Sets\",\n",
      "Optimization Methods and Software 1, 1992, 23-34].\n",
      "\n",
      "This database is also available through the UW CS ftp server:\n",
      "\n",
      "ftp ftp.cs.wisc.edu\n",
      "cd math-prog/cpo-dataset/machine-learn/WDBC/\n",
      "\n",
      ".. topic:: References\n",
      "\n",
      "   - W.N. Street, W.H. Wolberg and O.L. Mangasarian. Nuclear feature extraction \n",
      "     for breast tumor diagnosis. IS&T/SPIE 1993 International Symposium on \n",
      "     Electronic Imaging: Science and Technology, volume 1905, pages 861-870,\n",
      "     San Jose, CA, 1993.\n",
      "   - O.L. Mangasarian, W.N. Street and W.H. Wolberg. Breast cancer diagnosis and \n",
      "     prognosis via linear programming. Operations Research, 43(4), pages 570-577, \n",
      "     July-August 1995.\n",
      "   - W.H. Wolberg, W.N. Street, and O.L. Mangasarian. Machine learning techniques\n",
      "     to diagnose breast cancer from fine-needle aspirates. Cancer Letters 77 (1994) \n",
      "     163-171.\n"
     ]
    }
   ],
   "source": [
    "print(data.DESCR)"
   ]
  },
  {
   "cell_type": "markdown",
   "metadata": {},
   "source": [
    "## Build a simple Classification Model\n",
    "\n",
    "We are going to use the most basic decision tree possible, don't worry we will learn how these works in the next module, but for now you can pretent they are magic!\n",
    "\n",
    "The decision tree model will output classification predictions for us - is it cancer or not!"
   ]
  },
  {
   "cell_type": "code",
   "execution_count": 4,
   "metadata": {},
   "outputs": [],
   "source": [
    "clf = DecisionTreeClassifier()"
   ]
  },
  {
   "cell_type": "code",
   "execution_count": 5,
   "metadata": {},
   "outputs": [],
   "source": [
    "## make our training and test sets\n",
    "X_train, X_test, y_train,y_test = train_test_split(data.data, data.target, stratify = data.target)\n",
    "clf.fit(X_train,y_train)\n",
    "predictions = clf.predict(X_test)"
   ]
  },
  {
   "cell_type": "markdown",
   "metadata": {},
   "source": [
    "### Let's try out some metrics\n",
    "\n",
    "Now we have a set of predictions on our test set, your job is to try out different metrics with our prediction.\n",
    "You can try\n",
    "\n",
    "  * accuracy\n",
    "  * f1-score\n",
    "  * precision\n",
    "  * recall\n",
    "  * confusion matrices\n",
    "  * classification reports\n",
    "  \n",
    "Whatever other metrics you would like to try.  Note that each metric requires you to pass two arguments, the `y_true` and the `y_pred`.  `y_true` represents the _ground truth_ labels of the data we are examining.  `y_pred` represents the predictions that we made.  The classification metric will compare these two things and give you some numbers back.  **It is very important that you pass them in the correct order, otherwise you will swap the truth with predictions!**.  This swapping does not matter for the accuracy metric (which is only concerned with matching correct cases) but it matters very much with every other metric.\n",
    "\n",
    "In our case `y_pred` is `predictions`, and `y_true` is our `y_test`.\n"
   ]
  },
  {
   "cell_type": "code",
   "execution_count": 6,
   "metadata": {},
   "outputs": [],
   "source": [
    "from sklearn.metrics import precision_score, recall_score, f1_score, confusion_matrix, classification_report, fbeta_score"
   ]
  },
  {
   "cell_type": "markdown",
   "metadata": {},
   "source": [
    "I will do the first one for you, and then you can follow the pattern, it's pretty straightforward. Remember you can use _shift-tab_ to read the documentation string."
   ]
  },
  {
   "cell_type": "code",
   "execution_count": 7,
   "metadata": {},
   "outputs": [
    {
     "name": "stdout",
     "output_type": "stream",
     "text": [
      "0.8387096774193549\n"
     ]
    }
   ],
   "source": [
    "## precision\n",
    "precision = precision_score(y_test,predictions)\n",
    "print(precision)"
   ]
  },
  {
   "cell_type": "code",
   "execution_count": 8,
   "metadata": {},
   "outputs": [],
   "source": [
    "## recall\n",
    "\n"
   ]
  },
  {
   "cell_type": "code",
   "execution_count": 9,
   "metadata": {},
   "outputs": [],
   "source": [
    "## f1_score\n",
    "\n"
   ]
  },
  {
   "cell_type": "code",
   "execution_count": 10,
   "metadata": {},
   "outputs": [],
   "source": [
    "## fbeta_score\n",
    "## you can control the beta variable in the f-score here\n",
    "\n"
   ]
  },
  {
   "cell_type": "code",
   "execution_count": 11,
   "metadata": {},
   "outputs": [],
   "source": [
    "## Confusion Matrix\n",
    "## Remember this matrix is confusing! Scikit-learn does it backwards...:grin:\n",
    "\n"
   ]
  },
  {
   "cell_type": "code",
   "execution_count": 12,
   "metadata": {},
   "outputs": [],
   "source": [
    "## Classification Report\n",
    "\n"
   ]
  },
  {
   "cell_type": "markdown",
   "metadata": {},
   "source": [
    "Finally lets look at nice way to plot the confusion matrix"
   ]
  },
  {
   "cell_type": "code",
   "execution_count": 13,
   "metadata": {},
   "outputs": [],
   "source": [
    "from sklearn.metrics import ConfusionMatrixDisplay\n",
    "import matplotlib.pyplot as plt"
   ]
  },
  {
   "cell_type": "code",
   "execution_count": 15,
   "metadata": {},
   "outputs": [
    {
     "data": {
      "text/plain": [
       "<sklearn.metrics._plot.confusion_matrix.ConfusionMatrixDisplay at 0x1a2466bbd0>"
      ]
     },
     "execution_count": 15,
     "metadata": {},
     "output_type": "execute_result"
    },
    {
     "data": {
      "image/png": "[encoded data removed]",
      "text/plain": [
       "<Figure size 720x432 with 2 Axes>"
      ]
     },
     "metadata": {
      "needs_background": "light"
     },
     "output_type": "display_data"
    }
   ],
   "source": [
    "c = ConfusionMatrixDisplay(confusion_matrix(y_test,predictions), display_labels=data.target_names)\n",
    "fig, ax = plt.subplots(figsize=(10,6))\n",
    "c.plot(ax = ax, cmap='Blues', xticks_rotation = 0)"
   ]
  },
  {
   "cell_type": "code",
   "execution_count": 19,
   "metadata": {},
   "outputs": [],
   "source": [
    "from sklearn import tree"
   ]
  },
  {
   "cell_type": "code",
   "execution_count": 21,
   "metadata": {},
   "outputs": [
    {
     "data": {
      "text/plain": [
       "[Text(396.3068181818182, 305.77500000000003, 'X[23] <= 884.75\\ngini = 0.468\\nsamples = 426\\nvalue = [267, 159]'),\n",
       " Text(285.34090909090907, 265.005, 'X[27] <= 0.156\\ngini = 0.16\\nsamples = 286\\nvalue = [261, 25]'),\n",
       " Text(259.97727272727275, 224.235, 'X[27] <= 0.136\\ngini = 0.09\\nsamples = 274\\nvalue = [261, 13]'),\n",
       " Text(164.86363636363637, 183.465, 'X[13] <= 36.465\\ngini = 0.046\\nsamples = 257\\nvalue = [251, 6]'),\n",
       " Text(101.45454545454545, 142.69500000000002, 'X[14] <= 0.003\\ngini = 0.016\\nsamples = 244\\nvalue = [242, 2]'),\n",
       " Text(50.72727272727273, 101.92500000000001, 'X[26] <= 0.195\\ngini = 0.278\\nsamples = 6\\nvalue = [5, 1]'),\n",
       " Text(25.363636363636363, 61.15500000000003, 'gini = 0.0\\nsamples = 5\\nvalue = [5, 0]'),\n",
       " Text(76.0909090909091, 61.15500000000003, 'gini = 0.0\\nsamples = 1\\nvalue = [0, 1]'),\n",
       " Text(152.1818181818182, 101.92500000000001, 'X[21] <= 33.27\\ngini = 0.008\\nsamples = 238\\nvalue = [237, 1]'),\n",
       " Text(126.81818181818181, 61.15500000000003, 'gini = 0.0\\nsamples = 223\\nvalue = [223, 0]'),\n",
       " Text(177.54545454545453, 61.15500000000003, 'X[27] <= 0.09\\ngini = 0.124\\nsamples = 15\\nvalue = [14, 1]'),\n",
       " Text(152.1818181818182, 20.38499999999999, 'gini = 0.0\\nsamples = 14\\nvalue = [14, 0]'),\n",
       " Text(202.9090909090909, 20.38499999999999, 'gini = 0.0\\nsamples = 1\\nvalue = [0, 1]'),\n",
       " Text(228.27272727272728, 142.69500000000002, 'X[29] <= 0.063\\ngini = 0.426\\nsamples = 13\\nvalue = [9, 4]'),\n",
       " Text(202.9090909090909, 101.92500000000001, 'gini = 0.0\\nsamples = 2\\nvalue = [0, 2]'),\n",
       " Text(253.63636363636363, 101.92500000000001, 'X[16] <= 0.014\\ngini = 0.298\\nsamples = 11\\nvalue = [9, 2]'),\n",
       " Text(228.27272727272728, 61.15500000000003, 'gini = 0.0\\nsamples = 1\\nvalue = [0, 1]'),\n",
       " Text(279.0, 61.15500000000003, 'X[27] <= 0.112\\ngini = 0.18\\nsamples = 10\\nvalue = [9, 1]'),\n",
       " Text(253.63636363636363, 20.38499999999999, 'gini = 0.0\\nsamples = 9\\nvalue = [9, 0]'),\n",
       " Text(304.3636363636364, 20.38499999999999, 'gini = 0.0\\nsamples = 1\\nvalue = [0, 1]'),\n",
       " Text(355.09090909090907, 183.465, 'X[1] <= 20.785\\ngini = 0.484\\nsamples = 17\\nvalue = [10, 7]'),\n",
       " Text(329.72727272727275, 142.69500000000002, 'X[27] <= 0.139\\ngini = 0.278\\nsamples = 12\\nvalue = [10, 2]'),\n",
       " Text(304.3636363636364, 101.92500000000001, 'gini = 0.0\\nsamples = 2\\nvalue = [0, 2]'),\n",
       " Text(355.09090909090907, 101.92500000000001, 'gini = 0.0\\nsamples = 10\\nvalue = [10, 0]'),\n",
       " Text(380.45454545454544, 142.69500000000002, 'gini = 0.0\\nsamples = 5\\nvalue = [0, 5]'),\n",
       " Text(310.70454545454544, 224.235, 'gini = 0.0\\nsamples = 12\\nvalue = [0, 12]'),\n",
       " Text(507.27272727272725, 265.005, 'X[6] <= 0.072\\ngini = 0.082\\nsamples = 140\\nvalue = [6, 134]'),\n",
       " Text(481.9090909090909, 224.235, 'X[1] <= 19.545\\ngini = 0.48\\nsamples = 15\\nvalue = [6, 9]'),\n",
       " Text(456.54545454545456, 183.465, 'X[14] <= 0.003\\ngini = 0.245\\nsamples = 7\\nvalue = [6, 1]'),\n",
       " Text(431.1818181818182, 142.69500000000002, 'gini = 0.0\\nsamples = 1\\nvalue = [0, 1]'),\n",
       " Text(481.9090909090909, 142.69500000000002, 'gini = 0.0\\nsamples = 6\\nvalue = [6, 0]'),\n",
       " Text(507.27272727272725, 183.465, 'gini = 0.0\\nsamples = 8\\nvalue = [0, 8]'),\n",
       " Text(532.6363636363636, 224.235, 'gini = 0.0\\nsamples = 125\\nvalue = [0, 125]')]"
      ]
     },
     "execution_count": 21,
     "metadata": {},
     "output_type": "execute_result"
    },
    {
     "data": {
      "image/png": "[encoded data removed]",
      "text/plain": [
       "<Figure size 720x432 with 1 Axes>"
      ]
     },
     "metadata": {
      "needs_background": "light"
     },
     "output_type": "display_data"
    }
   ],
   "source": [
    "fig, ax = plt.subplots(figsize=(10,6))\n",
    "tree.plot_tree(clf, ax =ax)"
   ]
  },
  {
   "cell_type": "code",
   "execution_count": null,
   "metadata": {},
   "outputs": [],
   "source": []
  }
 ],
 "metadata": {
  "kernelspec": {
   "display_name": "Python 3",
   "language": "python",
   "name": "python3"
  },
  "language_info": {
   "codemirror_mode": {
    "name": "ipython",
    "version": 3
   },
   "file_extension": ".py",
   "mimetype": "text/x-python",
   "name": "python",
   "nbconvert_exporter": "python",
   "pygments_lexer": "ipython3",
   "version": "3.7.6"
  }
 },
 "nbformat": 4,
 "nbformat_minor": 4
}
