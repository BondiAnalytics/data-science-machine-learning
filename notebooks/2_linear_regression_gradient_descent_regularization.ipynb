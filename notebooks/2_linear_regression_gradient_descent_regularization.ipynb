{
 "cells": [
  {
   "cell_type": "markdown",
   "metadata": {},
   "source": [
    "# Exploring Linear Regression with Gradient Descent and Regularization\n",
    "\n",
    "In this task, your will explore linear regression with gradient descent and regularization.\n",
    "Previously we performed linear regression but we actually were using the built-in \"normal\" equations which automagically were solving for coefficients.  In this lab we will use scikit-learns SGDRegressor, which stands for Stochastic Gradient Descent Regression -- using Gradient descent to perform linear regression! We will try different versions of linear regression that incorporate the regularization term.\n",
    "\n",
    "Our goals are two fold\n",
    "\n",
    "1. Practice setting the learning rate on SGD\n",
    "2. Practice setting the regularization term with linear regression.\n"
   ]
  },
  {
   "cell_type": "code",
   "execution_count": 2,
   "metadata": {},
   "outputs": [],
   "source": [
    "#import the things we need\n",
    "import numpy as np\n",
    "import matplotlib.pyplot as plt\n",
    "from sklearn.datasets import make_regression\n",
    "from sklearn.metrics import mean_squared_error\n",
    "%matplotlib inline"
   ]
  },
  {
   "cell_type": "markdown",
   "metadata": {},
   "source": [
    "## Create Synthetic Data.\n",
    "We will use our handy functions again to create data.\n",
    "\n",
    "* Experiment with the **`noise`** keyword argument to see how it affects the graph below, after you are done experimenting, set `noise=20`.\n",
    "* Experiment with the **`random_state`** variable to get different sets of data"
   ]
  },
  {
   "cell_type": "code",
   "execution_count": 4,
   "metadata": {},
   "outputs": [
    {
     "data": {
      "image/png": "[encoded data removed]",
      "text/plain": [
       "<Figure size 720x432 with 1 Axes>"
      ]
     },
     "metadata": {
      "needs_background": "light"
     },
     "output_type": "display_data"
    }
   ],
   "source": [
    "X, y = make_regression(n_samples=40, n_features=1, noise = 20.0, random_state = 2)\n",
    "plt.figure(figsize=(10,6))\n",
    "plt.scatter(X, y);"
   ]
  },
  {
   "cell_type": "code",
   "execution_count": 5,
   "metadata": {},
   "outputs": [],
   "source": [
    "#create testing data to plot our prediction onto later - \n",
    "# this code is how we \"plot a line !!\" we need data to create the line\n",
    "X_test = np.linspace(min(X),max(X),100)"
   ]
  },
  {
   "cell_type": "markdown",
   "metadata": {},
   "source": [
    "# Linear Regression with Gradient Descent\n",
    "Ok, now we'll let the computer \"learn\" for itself what the best line is, but this time using gradient descent.\n",
    "We'll use the [SGDRegressor](https://scikit-learn.org/stable/modules/generated/sklearn.linear_model.SGDRegressor.html#sklearn.linear_model.SGDRegressor) model from scikit-learn to do this.  `SGDRegressor` implements Stochastic Gradient Descent and we will set it up to use a least squares (mean squared error) loss function. \n",
    "\n",
    "Let's create a linear regression model and fit it to our dataset."
   ]
  },
  {
   "cell_type": "code",
   "execution_count": null,
   "metadata": {},
   "outputs": [],
   "source": [
    "from sklearn.linear_model import SGDRegressor\n",
    "LinearRegression()\n",
    "def plot_linear():\n",
    "    model = LinearRegression()\n",
    "    model.fit(X,y)\n",
    "    print (\"M :  {}, C : {}\".format(model.coef_, model.intercept_))\n",
    "    y_test = model.predict(X_test.reshape(-1,1))\n",
    "\n",
    "    plt.figure(figsize=(10,6))\n",
    "    plt.scatter(X,y)\n",
    "    plt.plot(X_test.flatten(), y_test)\n",
    "    plt.title(\"mean squared error: {0:.3g}\".format(mean_squared_error(model.predict(X), y)))"
   ]
  },
  {
   "cell_type": "code",
   "execution_count": null,
   "metadata": {},
   "outputs": [],
   "source": [
    "plot_linear()"
   ]
  },
  {
   "cell_type": "markdown",
   "metadata": {},
   "source": [
    "##  How did your best eye guess compare to linear regression?"
   ]
  },
  {
   "cell_type": "markdown",
   "metadata": {},
   "source": [
    "# Polynomial Regression\n",
    "\n",
    "Now let's give our regression model more degrees of freedom.  Can we fit the data better?\n",
    "\n",
    "How can you tell if the fit is better?"
   ]
  },
  {
   "cell_type": "code",
   "execution_count": null,
   "metadata": {},
   "outputs": [],
   "source": [
    "from sklearn.preprocessing import PolynomialFeatures\n",
    "from sklearn.pipeline import Pipeline\n",
    "\n",
    "def plot_poly(degree = 3):\n",
    "    # make a pipeline that creates the polynomial features based on our input data\n",
    "    # this is akin to using performing polynomial regression\n",
    "    # see http://scikit-learn.org/stable/modules/linear_model.html#polynomial-regression-extending-linear-models-with-basis-functions\n",
    "    \n",
    "    model = Pipeline([('poly', PolynomialFeatures(degree=degree)),\n",
    "                       ('linear', LinearRegression(fit_intercept=False))])\n",
    "    model.fit(X,y)\n",
    "    y_test = model.predict(X_test)\n",
    "    plt.figure(figsize=(10,6))\n",
    "    plt.scatter(X,y)\n",
    "    plt.plot(X_test.flatten().reshape(-1,1), y_test, color = 'teal')\n",
    "    plt.title(\"mean squared error: {0:.3g}\".format(mean_squared_error(model.predict(X), y)))\n",
    "    plt.ylim((min(y)-10,max(y)+10))\n"
   ]
  },
  {
   "cell_type": "markdown",
   "metadata": {},
   "source": [
    "### Try adjusting the degree of the polynomial regression.\n",
    "\n",
    "What happens? "
   ]
  },
  {
   "cell_type": "code",
   "execution_count": null,
   "metadata": {},
   "outputs": [],
   "source": [
    "plot_poly(degree = 15)"
   ]
  },
  {
   "cell_type": "code",
   "execution_count": null,
   "metadata": {},
   "outputs": [],
   "source": [
    "plot_poly(degree = 3)"
   ]
  },
  {
   "cell_type": "code",
   "execution_count": null,
   "metadata": {},
   "outputs": [],
   "source": [
    "plot_poly(degree = 4)"
   ]
  },
  {
   "cell_type": "code",
   "execution_count": null,
   "metadata": {},
   "outputs": [],
   "source": [
    "plot_poly(degree = 5)"
   ]
  },
  {
   "cell_type": "code",
   "execution_count": null,
   "metadata": {},
   "outputs": [],
   "source": [
    "plot_poly(degree = 21)"
   ]
  },
  {
   "cell_type": "markdown",
   "metadata": {},
   "source": [
    "## Imagine that your boss gave you these data-points as part of a housing dataset.\n",
    "\n",
    "The task would be to find the function that best predicts new homes, that have never been sold before.\n",
    "\n",
    "You can imagine that the x-axis is the size of the home, and the y-axis is the price of the home.  Just like I did in the class video.\n",
    "\n",
    "Assuming this simple toy-world:\n",
    "What degree of freedom would you choose for your final function?  Why?"
   ]
  }
 ],
 "metadata": {
  "kernelspec": {
   "display_name": "Python 3",
   "language": "python",
   "name": "python3"
  },
  "language_info": {
   "codemirror_mode": {
    "name": "ipython",
    "version": 3
   },
   "file_extension": ".py",
   "mimetype": "text/x-python",
   "name": "python",
   "nbconvert_exporter": "python",
   "pygments_lexer": "ipython3",
   "version": "3.7.6"
  }
 },
 "nbformat": 4,
 "nbformat_minor": 4
}
